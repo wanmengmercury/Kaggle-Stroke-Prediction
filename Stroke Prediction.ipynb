{
 "cells": [
  {
   "cell_type": "markdown",
   "metadata": {},
   "source": [
    "'''\n",
    "Goal: predict the likeihood a patient having stroke given some health data\n",
    "Model: developed through Logistic Regression and AIC model selection (please refer to the R code)\n",
    "\n",
    "The final model for prediction: \n",
    "Stroke ~ age + average glucose level + hypertension + heart disease\n",
    "\n",
    "While adjusting cutoff values, I focus on decreasing Type2 error(False Negative Cases). \n",
    "Because I would like the model to be able to catch as many patients with high probability of having stroke as possible\n",
    "\n",
    "'''\n",
    "\n"
   ]
  },
  {
   "cell_type": "markdown",
   "metadata": {},
   "source": [
    "# Content\n",
    "1. Data Preprocessing\n",
    "2. Model Building\n",
    "Logistic Regression\n",
    "GridSearch CV\n",
    "3. Model Tuning by changing cutoff values"
   ]
  },
  {
   "cell_type": "markdown",
   "metadata": {},
   "source": [
    "## Data Preprocessing"
   ]
  },
  {
   "cell_type": "code",
   "execution_count": 1,
   "metadata": {},
   "outputs": [],
   "source": [
    "import pandas as pd\n",
    "import numpy as np\n",
    "import matplotlib.pyplot as plt\n",
    "\n",
    "from sklearn.linear_model import LogisticRegression\n",
    "from sklearn.model_selection import cross_val_score, RepeatedStratifiedKFold, GridSearchCV\n",
    "\n",
    "from sklearn.metrics import confusion_matrix, plot_confusion_matrix, f1_score, accuracy_score, precision_score, recall_score\n",
    "\n"
   ]
  },
  {
   "cell_type": "code",
   "execution_count": 2,
   "metadata": {},
   "outputs": [],
   "source": [
    "data = pd.read_csv('/Users/mercuryliu/Downloads/healthcare-dataset-stroke-data (1).csv', engine='python')\n",
    "df = data.drop(columns=['id', 'gender', 'ever_married', 'work_type', 'Residence_type', 'bmi', 'smoking_status'])\n"
   ]
  },
  {
   "cell_type": "code",
   "execution_count": 3,
   "metadata": {},
   "outputs": [],
   "source": [
    "df = df.dropna()\n",
    "X = df.drop(columns = ['stroke'])\n",
    "y = df['stroke']"
   ]
  },
  {
   "cell_type": "code",
   "execution_count": 4,
   "metadata": {},
   "outputs": [],
   "source": [
    "from sklearn.model_selection import train_test_split\n",
    "\n",
    "X_train, X_test, y_train, y_test = train_test_split(X, y, test_size=0.33, random_state=42)"
   ]
  },
  {
   "cell_type": "code",
   "execution_count": 5,
   "metadata": {},
   "outputs": [
    {
     "data": {
      "text/plain": [
       "(3423, 4)"
      ]
     },
     "execution_count": 5,
     "metadata": {},
     "output_type": "execute_result"
    }
   ],
   "source": [
    "X_train.shape"
   ]
  },
  {
   "cell_type": "code",
   "execution_count": 6,
   "metadata": {},
   "outputs": [
    {
     "data": {
      "text/plain": [
       "(3423,)"
      ]
     },
     "execution_count": 6,
     "metadata": {},
     "output_type": "execute_result"
    }
   ],
   "source": [
    "y_train.shape"
   ]
  },
  {
   "cell_type": "code",
   "execution_count": 7,
   "metadata": {},
   "outputs": [],
   "source": [
    "X_names = X_train.columns.tolist()"
   ]
  },
  {
   "cell_type": "markdown",
   "metadata": {},
   "source": [
    "## Model Building"
   ]
  },
  {
   "cell_type": "code",
   "execution_count": 8,
   "metadata": {},
   "outputs": [],
   "source": [
    "model = LogisticRegression()\n",
    "solvers = ['newton-cg', 'lbfgs', 'liblinear']\n",
    "penalty_1 = ['l1']\n",
    "c_values = [100, 10, 1.0, 0.1, 0.01]\n",
    "\n",
    "grid_1 = dict(solver=solvers,penalty=penalty_1,C=c_values)\n",
    "cv_1 = RepeatedStratifiedKFold(n_splits=10, n_repeats=3, random_state=1)\n",
    "grid_search_1 = GridSearchCV(estimator=model, param_grid=grid_1, n_jobs=-1, cv=cv_1, scoring='accuracy',error_score=0)\n",
    "grid_result_1 = grid_search_1.fit(X_train, y_train)"
   ]
  },
  {
   "cell_type": "code",
   "execution_count": 9,
   "metadata": {},
   "outputs": [
    {
     "name": "stdout",
     "output_type": "stream",
     "text": [
      "Best: 0.955304 using {'C': 100, 'penalty': 'l1', 'solver': 'liblinear'}\n"
     ]
    }
   ],
   "source": [
    "print(\"Best: %f using %s\" % (grid_result_1.best_score_, grid_result_1.best_params_))\n",
    "means_1 = grid_result_1.cv_results_['mean_test_score']\n",
    "stds_1 = grid_result_1.cv_results_['std_test_score']\n",
    "params_1 = grid_result_1.cv_results_['params']\n"
   ]
  },
  {
   "cell_type": "code",
   "execution_count": 10,
   "metadata": {},
   "outputs": [
    {
     "data": {
      "text/plain": [
       "LogisticRegression(C=100, max_iter=1000, penalty='l1', solver='liblinear',\n",
       "                   tol=1e-06)"
      ]
     },
     "execution_count": 10,
     "metadata": {},
     "output_type": "execute_result"
    }
   ],
   "source": [
    "lr_1 = LogisticRegression(penalty='l1', tol=1e-6, C=100, solver='liblinear', max_iter=1000)\n",
    "lr_1.fit(X_train, y_train)\n"
   ]
  },
  {
   "cell_type": "code",
   "execution_count": 11,
   "metadata": {},
   "outputs": [
    {
     "data": {
      "image/png": "[encoded data removed]",
      "text/plain": [
       "<Figure size 432x288 with 1 Axes>"
      ]
     },
     "metadata": {
      "needs_background": "light"
     },
     "output_type": "display_data"
    }
   ],
   "source": [
    "plt.plot(lr_1.coef_.flatten())\n",
    "plt.title('Steplog Model')\n",
    "plt.ylabel('Coefficient')\n",
    "plt.xlabel(X_names)\n",
    "plt.grid()\n"
   ]
  },
  {
   "cell_type": "markdown",
   "metadata": {},
   "source": [
    "## Model Tuning"
   ]
  },
  {
   "cell_type": "code",
   "execution_count": 12,
   "metadata": {},
   "outputs": [
    {
     "name": "stdout",
     "output_type": "stream",
     "text": [
      "0.0\n"
     ]
    },
    {
     "name": "stderr",
     "output_type": "stream",
     "text": [
      "/Users/mercuryliu/opt/anaconda3/lib/python3.8/site-packages/sklearn/metrics/_classification.py:1221: UndefinedMetricWarning: Precision is ill-defined and being set to 0.0 due to no predicted samples. Use `zero_division` parameter to control this behavior.\n",
      "  _warn_prf(average, modifier, msg_start, len(result))\n"
     ]
    }
   ],
   "source": [
    "lr_predictions = lr_1.predict(X_test)\n",
    "print(precision_score(y_test, lr_predictions))"
   ]
  },
  {
   "cell_type": "code",
   "execution_count": 13,
   "metadata": {},
   "outputs": [
    {
     "name": "stderr",
     "output_type": "stream",
     "text": [
      "/Users/mercuryliu/opt/anaconda3/lib/python3.8/site-packages/sklearn/metrics/_classification.py:1221: UndefinedMetricWarning: Precision is ill-defined and being set to 0.0 due to no predicted samples. Use `zero_division` parameter to control this behavior.\n",
      "  _warn_prf(average, modifier, msg_start, len(result))\n"
     ]
    }
   ],
   "source": [
    "#check the precision and recall score for different cutoff values\n",
    "#the plot shows that 0.5 is not a good cutoff value\n",
    "y_pred_prob = lr_1.predict_proba(X_test)[:,1]\n",
    "\n",
    "cutoff = np.arange(0,1, 0.1)\n",
    "precision = []\n",
    "recall = []\n",
    "f1 = []\n",
    "for k in range(len(cutoff)):\n",
    "    pred_labels = []\n",
    "    for i in range(len(y_pred_prob)):\n",
    "        if y_pred_prob[i] <= cutoff[k]:\n",
    "            pred_labels.append(0)\n",
    "        else:\n",
    "            pred_labels.append(1)\n",
    "    precision.append(precision_score(y_test, pred_labels))\n",
    "    recall.append(recall_score(y_test, pred_labels))\n",
    "    f1.append(f1_score(y_test, pred_labels))\n"
   ]
  },
  {
   "cell_type": "code",
   "execution_count": 14,
   "metadata": {},
   "outputs": [
    {
     "data": {
      "image/png": "[encoded data removed]",
      "text/plain": [
       "<Figure size 432x288 with 1 Axes>"
      ]
     },
     "metadata": {
      "needs_background": "light"
     },
     "output_type": "display_data"
    }
   ],
   "source": [
    "plt.plot(cutoff, precision, label='precision')\n",
    "plt.plot(cutoff, recall, label='recall' )\n",
    "plt.plot(cutoff, f1, label='f1')\n",
    "plt.legend()\n",
    "plt.show()"
   ]
  },
  {
   "cell_type": "code",
   "execution_count": 15,
   "metadata": {},
   "outputs": [],
   "source": [
    "y_pred_prob = lr_1.predict_proba(X_test)[:,1]"
   ]
  },
  {
   "cell_type": "code",
   "execution_count": 16,
   "metadata": {},
   "outputs": [],
   "source": [
    "#loop through all the values betwee[0, 0.4], show Type1 error, Type 2 error, and model accuracy\n",
    "cutoff2 = np.arange(0,0.4, 0.02)\n",
    "T1 = []\n",
    "T2 = []\n",
    "accu = []\n",
    "for k in range(len(cutoff2)):\n",
    "    pred_labels = []\n",
    "    for i in range(len(y_pred_prob)):\n",
    "        if y_pred_prob[i] <= cutoff2[k]:\n",
    "            pred_labels.append(0)\n",
    "        else:\n",
    "            pred_labels.append(1)\n",
    "    cm = confusion_matrix(y_test, pred_labels)\n",
    "    specificity = cm[1,1]/(cm[1,0]+cm[1,1])\n",
    "    sensitivity = cm[0,0]/(cm[0,0] + cm[0,1])\n",
    "    T1.append(1 - specificity)\n",
    "    T2.append(1 - sensitivity)\n",
    "    accu.append(accuracy_score(y_test, pred_labels))\n"
   ]
  },
  {
   "cell_type": "code",
   "execution_count": 17,
   "metadata": {},
   "outputs": [
    {
     "data": {
      "image/png": "[encoded data removed]",
      "text/plain": [
       "<Figure size 432x288 with 1 Axes>"
      ]
     },
     "metadata": {
      "needs_background": "light"
     },
     "output_type": "display_data"
    }
   ],
   "source": [
    "plt.plot(cutoff2, T1, label='Type I Error')\n",
    "plt.plot(cutoff2, T2, label='Type II Error' )\n",
    "plt.plot(cutoff2, accu, label='Overall Accuracy' )\n",
    "\n",
    "plt.legend()\n",
    "plt.show()"
   ]
  },
  {
   "cell_type": "code",
   "execution_count": 18,
   "metadata": {},
   "outputs": [],
   "source": [
    "#to find a precise value of, zoom in the plot"
   ]
  },
  {
   "cell_type": "code",
   "execution_count": 19,
   "metadata": {},
   "outputs": [],
   "source": [
    "cutoff3 = np.arange(0.1,0.4, 0.01)\n",
    "T1 = []\n",
    "T2 = []\n",
    "accu = []\n",
    "for k in range(len(cutoff3)):\n",
    "    pred_labels = []\n",
    "    for i in range(len(y_pred_prob)):\n",
    "        if y_pred_prob[i] <= cutoff3[k]:\n",
    "            pred_labels.append(0)\n",
    "        else:\n",
    "            pred_labels.append(1)\n",
    "    cm = confusion_matrix(y_test, pred_labels)\n",
    "    specificity = cm[1,1]/(cm[1,0]+cm[1,1])\n",
    "    sensitivity = cm[0,0]/(cm[0,0] + cm[0,1])\n",
    "    T1.append(1 - specificity)\n",
    "    T2.append(1 - sensitivity)\n",
    "    accu.append(accuracy_score(y_test, pred_labels))\n"
   ]
  },
  {
   "cell_type": "code",
   "execution_count": 20,
   "metadata": {},
   "outputs": [
    {
     "data": {
      "image/png": "[encoded data removed]",
      "text/plain": [
       "<Figure size 432x288 with 1 Axes>"
      ]
     },
     "metadata": {
      "needs_background": "light"
     },
     "output_type": "display_data"
    }
   ],
   "source": [
    "#overall accuracy is betweeo 0.8 - 1\n",
    "#If we want low Type II error, choose cutoff values between 0.3 - 0.4\n",
    "plt.plot(cutoff3, T1, label='Type I Error')\n",
    "plt.plot(cutoff3, T2, label='Type II Error' )\n",
    "plt.plot(cutoff3, accu, label='Overall Accuracy' )\n",
    "\n",
    "plt.legend()\n",
    "plt.show()"
   ]
  }
 ],
 "metadata": {
  "kernelspec": {
   "display_name": "Python 3",
   "language": "python",
   "name": "python3"
  },
  "language_info": {
   "codemirror_mode": {
    "name": "ipython",
    "version": 3
   },
   "file_extension": ".py",
   "mimetype": "text/x-python",
   "name": "python",
   "nbconvert_exporter": "python",
   "pygments_lexer": "ipython3",
   "version": "3.8.5"
  }
 },
 "nbformat": 4,
 "nbformat_minor": 4
}
